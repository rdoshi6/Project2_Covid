{
 "cells": [
  {
   "cell_type": "code",
   "execution_count": null,
   "metadata": {},
   "outputs": [],
   "source": [
    "import plotly.express as px\n",
    "import plotly.figure_factory as ff\n",
    "from plotly.subplots import make_subplots\n",
    "import plotly.graph_objects as go\n",
    "import folium\n",
    "import plotly.express as px\n",
    "import pandas as pd\n",
    "import numpy as np\n",
    "import matplotlib.pyplot as plt\n",
    "\n",
    "%matplotlib inline\n",
    "\n",
    "import math\n",
    "import random \n",
    "from datetime import timedelta\n",
    "import warnings\n",
    "warnings.filterwarnings('ignore')\n",
    "\n",
    "#colour pallette\n",
    "cnf = '#393e46'\n",
    "dth = '#ff2e63'\n",
    "rec = '#21bf73'\n",
    "act = '#fe9801'"
   ]
  },
  {
   "cell_type": "markdown",
   "metadata": {},
   "source": [
    "# Dataset Preparation"
   ]
  },
  {
   "cell_type": "code",
   "execution_count": null,
   "metadata": {},
   "outputs": [],
   "source": [
    "import plotly as py\n",
    "py.offline.init_notebook_mode(connected = True)\n",
    "import os"
   ]
  },
  {
   "cell_type": "code",
   "execution_count": null,
   "metadata": {},
   "outputs": [],
   "source": [
    "df = pd.read_csv('Covid-19-Preprocessed-Dataset/preprocessed/covid_19_data_cleaned.csv', parse_dates=['Date'])\n",
    "country_daywise = pd.read_csv('Covid-19-Preprocessed-Dataset/preprocessed/country_daywise.csv')\n",
    "countrywise = pd.read_csv('Covid-19-Preprocessed-Dataset/preprocessed/countrywise.csv')\n",
    "daywise = pd.read_csv('Covid-19-Preprocessed-Dataset/preprocessed/daywise.csv')"
   ]
  },
  {
   "cell_type": "code",
   "execution_count": null,
   "metadata": {},
   "outputs": [],
   "source": [
    "df['Province/State'] = df['Province/State'].fillna(\"\")\n",
    "df.head()"
   ]
  },
  {
   "cell_type": "code",
   "execution_count": null,
   "metadata": {},
   "outputs": [],
   "source": [
    "country_daywise"
   ]
  },
  {
   "cell_type": "code",
   "execution_count": null,
   "metadata": {},
   "outputs": [],
   "source": [
    "countrywise"
   ]
  },
  {
   "cell_type": "code",
   "execution_count": null,
   "metadata": {},
   "outputs": [],
   "source": [
    "daywise"
   ]
  },
  {
   "cell_type": "code",
   "execution_count": null,
   "metadata": {},
   "outputs": [],
   "source": [
    "confirmed = df.groupby('Date').sum()['Confirmed'].reset_index()\n",
    "confirmed.head()"
   ]
  },
  {
   "cell_type": "code",
   "execution_count": null,
   "metadata": {},
   "outputs": [],
   "source": [
    "recovered = df.groupby('Date').sum()['Recovered'].reset_index()\n",
    "recovered.head()"
   ]
  },
  {
   "cell_type": "code",
   "execution_count": null,
   "metadata": {},
   "outputs": [],
   "source": [
    "deaths = df.groupby('Date').sum()['Deaths'].reset_index()\n",
    "deaths.head()"
   ]
  },
  {
   "cell_type": "code",
   "execution_count": null,
   "metadata": {},
   "outputs": [],
   "source": [
    "df.isnull().sum()"
   ]
  },
  {
   "cell_type": "code",
   "execution_count": null,
   "metadata": {},
   "outputs": [],
   "source": [
    "df.info()"
   ]
  },
  {
   "cell_type": "code",
   "execution_count": null,
   "metadata": {},
   "outputs": [],
   "source": [
    "df.query('Country == \"US\"')"
   ]
  },
  {
   "cell_type": "markdown",
   "metadata": {},
   "source": [
    "## Worldwide Total confirmed, Recovered, and Deaths"
   ]
  },
  {
   "cell_type": "code",
   "execution_count": null,
   "metadata": {},
   "outputs": [],
   "source": [
    "confirmed.tail()"
   ]
  },
  {
   "cell_type": "code",
   "execution_count": null,
   "metadata": {},
   "outputs": [],
   "source": [
    "recovered.tail()"
   ]
  },
  {
   "cell_type": "code",
   "execution_count": null,
   "metadata": {},
   "outputs": [],
   "source": [
    "deaths.tail()"
   ]
  },
  {
   "cell_type": "code",
   "execution_count": null,
   "metadata": {},
   "outputs": [],
   "source": [
    "fig = go.Figure()\n",
    "fig.add_trace(go.Scatter(x = confirmed['Date'], y = confirmed['Confirmed'], mode = 'lines+markers', name = 'Confirmed', line = dict(color = 'Orange', width = 4)))\n",
    "fig.add_trace(go.Scatter(x = recovered['Date'], y = recovered['Recovered'], mode = 'lines+markers', name = 'Recovered', line = dict(color = 'Green', width = 4)))\n",
    "fig.add_trace(go.Scatter(x = deaths['Date'], y = deaths['Deaths'], mode = 'lines+markers', name = 'Deaths', line = dict(color = 'Red', width = 4)))\n",
    "fig.update_layout(title = 'Worldwide Covid-19 Cases', xaxis_tickfont_size = 14, yaxis = dict(title = 'Number of Cases'))\n",
    "fig.show()"
   ]
  },
  {
   "cell_type": "markdown",
   "metadata": {},
   "source": [
    "##  Cases Density Animation on World Map"
   ]
  },
  {
   "cell_type": "code",
   "execution_count": null,
   "metadata": {},
   "outputs": [],
   "source": [
    "df.info()"
   ]
  },
  {
   "cell_type": "code",
   "execution_count": null,
   "metadata": {},
   "outputs": [],
   "source": [
    "df['Date'] = df['Date'].astype(str)"
   ]
  },
  {
   "cell_type": "code",
   "execution_count": null,
   "metadata": {},
   "outputs": [],
   "source": [
    "df.info()"
   ]
  },
  {
   "cell_type": "code",
   "execution_count": null,
   "metadata": {},
   "outputs": [],
   "source": [
    "fig = px.density_mapbox(df, lat = 'Lat', lon = 'Long', hover_name = 'Country', hover_data = ['Confirmed', 'Recovered', 'Deaths'],animation_frame='Date', color_continuous_scale='Portland', radius = 7, zoom = 0, height=700)\n",
    "fig.update_layout(title = 'Worldwide Covid 19 Cases with Time laps')\n",
    "fig.update_layout(mapbox_style = 'open-street-map', mapbox_center_lon = 0)\n",
    "\n",
    "fig.show()"
   ]
  },
  {
   "cell_type": "markdown",
   "metadata": {},
   "source": [
    "## Cases Over the Time with Area Plot"
   ]
  },
  {
   "cell_type": "code",
   "execution_count": null,
   "metadata": {},
   "outputs": [],
   "source": [
    "temp = df.groupby('Date')['Confirmed', 'Deaths', 'Recovered', 'Active'].sum().reset_index()\n",
    "temp"
   ]
  },
  {
   "cell_type": "code",
   "execution_count": null,
   "metadata": {},
   "outputs": [],
   "source": [
    "temp = df.groupby('Date')['Confirmed', 'Deaths', 'Recovered', 'Active'].sum().reset_index()\n",
    "temp = temp[temp['Date']==max(temp['Date'])].reset_index(drop = True)\n",
    "temp"
   ]
  },
  {
   "cell_type": "code",
   "execution_count": null,
   "metadata": {},
   "outputs": [],
   "source": [
    "temp = df.groupby('Date')['Confirmed', 'Deaths', 'Recovered', 'Active'].sum().reset_index()\n",
    "temp = temp[temp['Date']==max(temp['Date'])].reset_index(drop = True)\n",
    "\n",
    "tm = temp.melt(id_vars = 'Date', value_vars = ['Active', 'Deaths', 'Recovered', 'Confirmed'])\n",
    "fig = px.treemap(tm, path = ['variable'], values = 'value', height = 350, width = 1000, color_discrete_sequence=[act, rec, dth])\n",
    "\n",
    "fig.data[0].textinfo = 'label+text+value'\n",
    "fig.show()"
   ]
  },
  {
   "cell_type": "code",
   "execution_count": null,
   "metadata": {},
   "outputs": [],
   "source": [
    "# changing date column \n",
    "temp = df.groupby('Date').mean()\n",
    "temp"
   ]
  },
  {
   "cell_type": "code",
   "execution_count": null,
   "metadata": {},
   "outputs": [],
   "source": [
    "# bring the date column back to normal\n",
    "temp = df.groupby('Date')['Recovered', 'Deaths', 'Active'].sum().reset_index()\n",
    "\n",
    "temp = temp.melt(id_vars = 'Date', value_vars = ['Recovered', 'Deaths', 'Active'], var_name = 'Case', value_name = 'Count')\n",
    "\n",
    "\n",
    "fig = px.area(temp, x = 'Date', y = 'Count', color= 'Case', height= 800, title = 'Cases over time', color_discrete_sequence=[rec, dth,  act])\n",
    "fig.update_layout(xaxis_rangeslider_visible=True)\n",
    "fig.show()\n"
   ]
  },
  {
   "cell_type": "markdown",
   "metadata": {},
   "source": [
    "# Folium Maps"
   ]
  },
  {
   "cell_type": "code",
   "execution_count": null,
   "metadata": {
    "scrolled": false
   },
   "outputs": [],
   "source": [
    "temp = df[df['Date']==max(df['Date'])]\n",
    "\n",
    "m = folium.Map(location=[0, 0], titles='cartodbpositron', min_zoom = 1, max_zoom=4, zoom_start=1)\n",
    "               \n",
    "for i in range(0, len(temp)):\n",
    "    folium.Circle(location=[temp.iloc[i]['Lat'], temp.iloc[i]['Long']], color = 'crimson', fill = 'crimson', \n",
    "                 tooltip = '<li><bold> Country: ' + str(temp.iloc[i]['Country'])+\n",
    "                             '<li><bold> Province: ' + str(temp.iloc[i]['Province/State'])+\n",
    "                              '<li><bold> Confirmed: ' + str(temp.iloc[i]['Confirmed'])+\n",
    "                               '<li><bold> Deaths: ' + str(temp.iloc[i]['Deaths']),\n",
    "radius = int(temp.iloc[i]['Confirmed'])**0.5).add_to(m)\n",
    "   \n",
    "m"
   ]
  },
  {
   "cell_type": "markdown",
   "metadata": {},
   "source": [
    "## Confirmed Cases with Choropleth Map"
   ]
  },
  {
   "cell_type": "code",
   "execution_count": null,
   "metadata": {},
   "outputs": [],
   "source": [
    "fig = px.choropleth(country_daywise, locations= 'Country', locationmode='country names', color = country_daywise['Confirmed'],\n",
    "                   hover_name ='Country', animation_frame = country_daywise['Date'],\n",
    "                   title = 'Cases over time', color_continuous_scale=px.colors.sequential.Inferno)\n",
    "\n",
    "fig.update(layout_coloraxis_showscale = True)\n",
    "fig.show()"
   ]
  },
  {
   "cell_type": "markdown",
   "metadata": {},
   "source": [
    "## Deaths and Recoveries per 100 Cases"
   ]
  },
  {
   "cell_type": "code",
   "execution_count": null,
   "metadata": {},
   "outputs": [],
   "source": [
    "fig_c = px.bar(daywise, x = 'Date', y = 'Confirmed', color_discrete_sequence=[act])\n",
    "fig_d = px.bar(daywise, x = 'Date', y = 'Deaths', color_discrete_sequence=[dth])\n",
    "\n",
    "fig = make_subplots(rows = 1, cols = 2, shared_xaxes=False, horizontal_spacing=0.1,\n",
    "                  subplot_titles=('Confirmed Cases', 'Deaths Cases'))\n",
    "\n",
    "fig.add_trace(fig_c['data'][0], row = 1, col = 1)\n",
    "fig.add_trace(fig_d['data'][0], row = 1, col = 2)\n",
    "\n",
    "fig.update_layout(height = 500)\n",
    "\n",
    "fig.show()"
   ]
  },
  {
   "cell_type": "markdown",
   "metadata": {},
   "source": [
    "## Confirmed and Death Cases with Static colormap"
   ]
  },
  {
   "cell_type": "code",
   "execution_count": null,
   "metadata": {},
   "outputs": [],
   "source": [
    "daywise.head()"
   ]
  },
  {
   "cell_type": "code",
   "execution_count": null,
   "metadata": {},
   "outputs": [],
   "source": []
  },
  {
   "cell_type": "code",
   "execution_count": null,
   "metadata": {},
   "outputs": [],
   "source": []
  },
  {
   "cell_type": "code",
   "execution_count": null,
   "metadata": {},
   "outputs": [],
   "source": []
  },
  {
   "cell_type": "code",
   "execution_count": null,
   "metadata": {},
   "outputs": [],
   "source": [
    "fig_c = px.choropleth(countrywise, locations='Country', locationmode='country_names',\n",
    "                     color = np.log(countrywise['Confirmed']), hover_name = 'Country',\n",
    "                     hover_data = ['Confirmed'])\n",
    "\n",
    "temp = countrywise[countrywise['Deaths']>0]\n",
    "fig_d = px.choropleth(temp, locations ='Country', locationmode='country_names',\n",
    "                     color = np.log(temp['Deaths']), hover_name = 'Country',\n",
    "                     hover_data = ['Deaths'])\n",
    "\n",
    "fig = make_subplots(rows = 1, cols = 2, subplot_titles= ['Confirmed', 'Deaths'],\n",
    "                    specs = [[{'type': 'choropleth'}, {'type': 'choropleth'}]])\n",
    "\n",
    "fig.add_trace(fig_c['data'][0], row = 1, col = 1)\n",
    "fig.add_trace(fig_d['data'][0], row = 1, col = 2)\n",
    "\n",
    "fig.show()"
   ]
  },
  {
   "cell_type": "code",
   "execution_count": null,
   "metadata": {},
   "outputs": [],
   "source": [
    "fig_c = px.choropleth(countrywise, locations='Country', locationmode='country_names',\n",
    "                     color = np.log(countrywise['Confirmed']), hover_name = 'Country',\n",
    "                     hover_data = (['Confirmed'])\n",
    "temp = countrywise[countrywise['Deaths']>0]\n",
    "fig_d = px.choropleth(temp, locations ='Country', locationmode='country_names',\n",
    "                     color = np.log(temp['Deaths']), hover_name = 'Country',\n",
    "                     hover_data = ['Deaths'])\n",
    "\n",
    "fig = make_subplots(rows = 1, cols = 2, subplot_titles= ['Confirmed', 'Deaths'],\n",
    "                   specs = [[{'type': 'choropleth'}, {'type': 'choropleth'}]])\n",
    "\n",
    "fig.add_trace(fig_c['data'][0], row = 1, col = 1)\n",
    "fig.add_trace(fig_d['data'][0], row = 1, col = 2)\n",
    "fig.update(layout_coloraxis_showscale = False)\n",
    "fig.show()"
   ]
  },
  {
   "cell_type": "code",
   "execution_count": null,
   "metadata": {},
   "outputs": [],
   "source": [
    "full_latest = df[df['Date'] == max(df['Date'])]\n",
    "\n",
    "fig = px.treemap(full_latest.sort_values(by = 'Confirmed', ascending = False).reset_index(drop = True),\n",
    "                 path = ['Contry', 'Province/State'], values = 'Confirmed', height = 700,\n",
    "                 title = 'Number of Confirmed Cases',\n",
    "                 color_discrete_sequence = px.colors.qualitative.Dark2)\n",
    "fig.data[0].textinfo = 'label+text+value'\n",
    "fig.show()"
   ]
  },
  {
   "cell_type": "code",
   "execution_count": null,
   "metadata": {},
   "outputs": [],
   "source": []
  },
  {
   "cell_type": "code",
   "execution_count": null,
   "metadata": {},
   "outputs": [],
   "source": []
  },
  {
   "cell_type": "code",
   "execution_count": null,
   "metadata": {},
   "outputs": [],
   "source": []
  },
  {
   "cell_type": "code",
   "execution_count": null,
   "metadata": {},
   "outputs": [],
   "source": []
  }
 ],
 "metadata": {
  "kernelspec": {
   "display_name": "Python 3",
   "language": "python",
   "name": "python3"
  },
  "language_info": {
   "codemirror_mode": {
    "name": "ipython",
    "version": 3
   },
   "file_extension": ".py",
   "mimetype": "text/x-python",
   "name": "python",
   "nbconvert_exporter": "python",
   "pygments_lexer": "ipython3",
   "version": "3.7.6"
  }
 },
 "nbformat": 4,
 "nbformat_minor": 4
}
